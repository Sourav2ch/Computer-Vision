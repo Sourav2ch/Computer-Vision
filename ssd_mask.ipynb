{
  "nbformat": 4,
  "nbformat_minor": 0,
  "metadata": {
    "colab": {
      "name": "ssd mask",
      "provenance": [],
      "collapsed_sections": [],
      "include_colab_link": true
    },
    "kernelspec": {
      "name": "python3",
      "display_name": "Python 3"
    },
    "accelerator": "GPU"
  },
  "cells": [
    {
      "cell_type": "markdown",
      "metadata": {
        "id": "view-in-github",
        "colab_type": "text"
      },
      "source": [
        "<a href=\"https://colab.research.google.com/github/Sourav56/Computer-Vision/blob/master/ssd_mask.ipynb\" target=\"_parent\"><img src=\"https://colab.research.google.com/assets/colab-badge.svg\" alt=\"Open In Colab\"/></a>"
      ]
    },
    {
      "cell_type": "code",
      "metadata": {
        "id": "1hZH7-FN5MXC",
        "colab_type": "code",
        "colab": {}
      },
      "source": [
        "from google.colab import drive\n",
        "drive.mount('drive')"
      ],
      "execution_count": null,
      "outputs": []
    },
    {
      "cell_type": "code",
      "metadata": {
        "id": "_KVh4khk5bHO",
        "colab_type": "code",
        "colab": {}
      },
      "source": [
        "import os\n",
        "import zipfile\n",
        "import pandas as pd\n",
        "import random\n",
        "import shutil\n",
        "import tensorflow as tf\n",
        "from tensorflow.keras.optimizers import RMSprop\n",
        "from tensorflow.keras.preprocessing.image import ImageDataGenerator\n",
        "from shutil import copyfile\n",
        "from os import getcwd\n",
        "from os import listdir\n",
        "import cv2\n",
        "from tensorflow.keras.layers import Conv2D, Input, ZeroPadding2D, BatchNormalization, Activation, MaxPooling2D, Flatten, Dense\n",
        "from tensorflow.keras.models import Model, load_model\n",
        "from tensorflow.keras.callbacks import TensorBoard, ModelCheckpoint\n",
        "from sklearn.model_selection import train_test_split\n",
        "from sklearn.metrics import f1_score\n",
        "from sklearn.utils import shuffle\n",
        "import imutils\n",
        "import numpy as np\n",
        "import matplotlib.pyplot as plt\n",
        "import matplotlib.image  as mpimg"
      ],
      "execution_count": null,
      "outputs": []
    },
    {
      "cell_type": "code",
      "metadata": {
        "id": "rEPWAyBx6zLj",
        "colab_type": "code",
        "colab": {
          "base_uri": "https://localhost:8080/",
          "height": 33
        },
        "outputId": "b403cb3e-124a-4196-81c7-c91961d5663d"
      },
      "source": [
        "directory=r'/content/drive/My Drive/Colab Notebooks/facemaskdetection'\n",
        "category =  os.listdir(directory)\n",
        "print(category)"
      ],
      "execution_count": null,
      "outputs": [
        {
          "output_type": "stream",
          "text": [
            "['without_mask', 'with_mask']\n"
          ],
          "name": "stdout"
        }
      ]
    },
    {
      "cell_type": "code",
      "metadata": {
        "id": "Eru0Fqx97CIq",
        "colab_type": "code",
        "colab": {}
      },
      "source": [
        "yes_im = r'/content/drive/My Drive/Colab Notebooks/facemaskdetection/with_mask'\n",
        "no_im = r'/content/drive/My Drive/Colab Notebooks/facemaskdetection/without_mask'"
      ],
      "execution_count": null,
      "outputs": []
    },
    {
      "cell_type": "code",
      "metadata": {
        "id": "-JnPaOc66R00",
        "colab_type": "code",
        "colab": {
          "base_uri": "https://localhost:8080/",
          "height": 50
        },
        "outputId": "87050bf4-5dfd-48be-9e91-206a85fc9c9a"
      },
      "source": [
        "print(\"The number of images with facemask labelled 'yes':\",len(os.listdir(yes_im)))\n",
        "print(\"The number of images with facemask labelled 'no':\",len(os.listdir(no_im)))"
      ],
      "execution_count": null,
      "outputs": [
        {
          "output_type": "stream",
          "text": [
            "The number of images with facemask labelled 'yes': 1915\n",
            "The number of images with facemask labelled 'no': 1918\n"
          ],
          "name": "stdout"
        }
      ]
    },
    {
      "cell_type": "code",
      "metadata": {
        "id": "2xPNG7faCWzY",
        "colab_type": "code",
        "colab": {
          "base_uri": "https://localhost:8080/",
          "height": 134
        },
        "outputId": "05cfbf32-9bfd-4bc7-db74-7e0c03b1f0bb"
      },
      "source": [
        "!git clone https://github.com/prajnasb/observations"
      ],
      "execution_count": null,
      "outputs": [
        {
          "output_type": "stream",
          "text": [
            "Cloning into 'observations'...\n",
            "remote: Enumerating objects: 34, done.\u001b[K\n",
            "remote: Counting objects: 100% (34/34), done.\u001b[K\n",
            "remote: Compressing objects: 100% (33/33), done.\u001b[K\n",
            "remote: Total 1638 (delta 9), reused 0 (delta 0), pack-reused 1604\u001b[K\n",
            "Receiving objects: 100% (1638/1638), 75.94 MiB | 12.38 MiB/s, done.\n",
            "Resolving deltas: 100% (20/20), done.\n"
          ],
          "name": "stdout"
        }
      ]
    },
    {
      "cell_type": "code",
      "metadata": {
        "id": "w-tiwkY3C6G_",
        "colab_type": "code",
        "colab": {
          "base_uri": "https://localhost:8080/",
          "height": 33
        },
        "outputId": "ceec78e6-aa23-43cc-f37f-79c21bc35325"
      },
      "source": [
        "!ls observations/experiements/dest_folder/"
      ],
      "execution_count": null,
      "outputs": [
        {
          "output_type": "stream",
          "text": [
            "test  test.csv\ttrain  train.csv  val\n"
          ],
          "name": "stdout"
        }
      ]
    },
    {
      "cell_type": "code",
      "metadata": {
        "id": "tbQjYT_O7wtM",
        "colab_type": "code",
        "colab": {
          "base_uri": "https://localhost:8080/",
          "height": 67
        },
        "outputId": "2b17d98b-e571-4266-8974-97667357ed94"
      },
      "source": [
        "def data_summary(code_path):\n",
        "    \n",
        "    yes_path = code_path+'with_mask'\n",
        "    no_path = code_path+'without_mask'\n",
        "        \n",
        "    # number of files (images) that are in the the folder named 'yes' that represent tumorous (positive) examples\n",
        "    m_pos = len(listdir(yes_path))\n",
        "    # number of files (images) that are in the the folder named 'no' that represent non-tumorous (negative) examples\n",
        "    m_neg = len(listdir(no_path))\n",
        "    # number of all examples\n",
        "    \n",
        "    m = (m_pos+m_neg)\n",
        "    \n",
        "    pos_prec = (m_pos* 100.0)/ m\n",
        "    neg_prec = (m_neg* 100.0)/ m\n",
        "    \n",
        "    print(f\"Number of examples: {m}\")\n",
        "    print(f\"Percentage of positive examples: {pos_prec}%, number of pos examples: {m_pos}\") \n",
        "    print(f\"Percentage of negative examples: {neg_prec}%, number of neg examples: {m_neg}\") \n",
        "    \n",
        "augmented_data_path =  r'/content/drive/My Drive/Colab Notebooks/facemaskdetection/' \n",
        "data_summary(augmented_data_path)"
      ],
      "execution_count": null,
      "outputs": [
        {
          "output_type": "stream",
          "text": [
            "Number of examples: 3833\n",
            "Percentage of positive examples: 49.96086616227498%, number of pos examples: 1915\n",
            "Percentage of negative examples: 50.03913383772502%, number of neg examples: 1918\n"
          ],
          "name": "stdout"
        }
      ]
    },
    {
      "cell_type": "code",
      "metadata": {
        "id": "9_jCzmUN9OSh",
        "colab_type": "code",
        "colab": {}
      },
      "source": [
        "def split_data(original, TRAINING, TESTING, SPLIT_SIZE):\n",
        "    dataset = []\n",
        "    \n",
        "    for unitData in os.listdir(original):\n",
        "        data = original + unitData\n",
        "        if(os.path.getsize(data) > 0):\n",
        "            dataset.append(unitData)\n",
        "        else:\n",
        "            print('Skipped ' + unitData)\n",
        "            print('Invalid file i.e zero size')\n",
        "    \n",
        "    train_set_length = int(len(dataset) * SPLIT_SIZE)\n",
        "    test_set_length = int(len(dataset) - train_set_length)\n",
        "    shuffled_set = random.sample(dataset, len(dataset))\n",
        "    train_set = dataset[0:train_set_length]\n",
        "    test_set = dataset[-test_set_length:]\n",
        "       \n",
        "    for unitData in train_set:\n",
        "        temp_train_set = original + unitData\n",
        "        final_train_set = TRAINING + unitData\n",
        "        copyfile(temp_train_set, final_train_set)\n",
        "    \n",
        "    for unitData in test_set:\n",
        "        temp_test_set = original + unitData\n",
        "        final_test_set = TESTING + unitData\n",
        "        copyfile(temp_test_set, final_test_set)\n",
        "        \n",
        "YES_Data = \"observations/experiements/data/with_mask/\"\n",
        "TRAINING_YES_ = \"observations/experiements/dest_folder/train/with_mask/\"\n",
        "TESTING_YES_ = \"observations/experiements/dest_folder/test/with_mask/\"\n",
        "\n",
        "NO_Data =  \"observations/experiements/data/without_mask/\"\n",
        "TRAINING_NO_ = \"observations/experiements/dest_folder/train/without_mask/\"\n",
        "TESTING_NO_ = 'observations/experiements/dest_folder/test/without_mask/'\n",
        "split_size = 0.8\n",
        "split_data( YES_Data, TRAINING_YES_, TESTING_YES_, split_size)\n",
        "split_data( NO_Data,TRAINING_NO_, TESTING_NO_, split_size)"
      ],
      "execution_count": null,
      "outputs": []
    },
    {
      "cell_type": "code",
      "metadata": {
        "id": "-pFYddQv7YQJ",
        "colab_type": "code",
        "colab": {
          "base_uri": "https://localhost:8080/",
          "height": 84
        },
        "outputId": "fba4164f-c1dc-415b-d67c-4be6b236f744"
      },
      "source": [
        "print(\"The number of images with facemask in the training set labelled 'yes':\", len(os.listdir(\"observations/experiements/dest_folder/train/with_mask/\")))\n",
        "print(\"The number of images with facemask in the test set labelled 'yes':\", len(os.listdir(\"observations/experiements/dest_folder/test/with_mask/\")))\n",
        "print(\"The number of images without facemask in the training set labelled 'no':\", len(os.listdir(\"observations/experiements/dest_folder/train/without_mask/\")))\n",
        "print(\"The number of images without facemask in the test set labelled 'no':\", len(os.listdir(\"observations/experiements/dest_folder/test/without_mask/\")))"
      ],
      "execution_count": null,
      "outputs": [
        {
          "output_type": "stream",
          "text": [
            "The number of images with facemask in the training set labelled 'yes': 735\n",
            "The number of images with facemask in the test set labelled 'yes': 215\n",
            "The number of images without facemask in the training set labelled 'no': 734\n",
            "The number of images without facemask in the test set labelled 'no': 215\n"
          ],
          "name": "stdout"
        }
      ]
    },
    {
      "cell_type": "code",
      "metadata": {
        "id": "Um9B_ycSR0K4",
        "colab_type": "code",
        "colab": {}
      },
      "source": [
        "image_size = 224\n",
        "IMG_SHAPE = (image_size, image_size, 3)"
      ],
      "execution_count": null,
      "outputs": []
    },
    {
      "cell_type": "code",
      "metadata": {
        "id": "7YRKvxyQ1FMO",
        "colab_type": "code",
        "colab": {
          "base_uri": "https://localhost:8080/",
          "height": 70
        },
        "outputId": "0bb4c0e5-cdfb-4ec2-f6c4-f8b9c5ee7b28"
      },
      "source": [
        "base_model = tf.keras.applications.MobileNetV2(input_shape=IMG_SHAPE,\n",
        "                                              include_top=False,\n",
        "                                              weights='imagenet')\n",
        "base_model.trainable = False\n",
        "tf.keras.callbacks.EarlyStopping(\n",
        "    monitor='acc', min_delta=95, patience=0, verbose=0, mode='auto',\n",
        "    baseline=None, restore_best_weights=False\n",
        ")\n",
        "\n",
        "model = tf.keras.models.Sequential([base_model,\n",
        "    tf.keras.layers.Conv2D(100, (3,3), activation='relu', input_shape=IMG_SHAPE, padding = 'same'),\n",
        "    tf.keras.layers.MaxPooling2D(2,2),\n",
        "    \n",
        "    tf.keras.layers.Conv2D(100, (3,3), activation='relu', padding = 'same'),\n",
        "    tf.keras.layers.MaxPooling2D(2,2),\n",
        "    \n",
        "    tf.keras.layers.Flatten(),\n",
        "    tf.keras.layers.Dropout(0.5),\n",
        "    tf.keras.layers.Dense(50, activation='relu'),\n",
        "    tf.keras.layers.Dense(2, activation='softmax')])\n",
        "model.compile(optimizer='adam', loss='binary_crossentropy', metrics=['acc'])"
      ],
      "execution_count": null,
      "outputs": [
        {
          "output_type": "stream",
          "text": [
            "Downloading data from https://storage.googleapis.com/tensorflow/keras-applications/mobilenet_v2/mobilenet_v2_weights_tf_dim_ordering_tf_kernels_1.0_224_no_top.h5\n",
            "9412608/9406464 [==============================] - 0s 0us/step\n"
          ],
          "name": "stdout"
        }
      ]
    },
    {
      "cell_type": "code",
      "metadata": {
        "id": "VcwnYzoc1Fcr",
        "colab_type": "code",
        "colab": {
          "base_uri": "https://localhost:8080/",
          "height": 50
        },
        "outputId": "bc3e7171-bfbe-4742-e6ae-30158fbfcae2"
      },
      "source": [
        "TRAINING_DIR = \"/content/drive/My Drive/Colab Notebooks/facemaskdetection/\"\n",
        "train_datagen = ImageDataGenerator(rescale=1.0/255,\n",
        "                                   rotation_range=40,\n",
        "                                   width_shift_range=0.2,\n",
        "                                   height_shift_range=0.2,\n",
        "                                   shear_range=0.2,\n",
        "                                   zoom_range=0.2,\n",
        "                                   horizontal_flip=True,\n",
        "                                   fill_mode='nearest')\n",
        "\n",
        "train_generator = train_datagen.flow_from_directory(TRAINING_DIR, \n",
        "                                                    batch_size=10, \n",
        "                                                    target_size=(150, 150))\n",
        "VALIDATION_DIR = \"observations/experiements/dest_folder/test/\"\n",
        "validation_datagen = ImageDataGenerator(rescale=1.0/255)\n",
        "\n",
        "validation_generator = validation_datagen.flow_from_directory(VALIDATION_DIR, \n",
        "                                                         batch_size=10, \n",
        "                                                         target_size=(150, 150))\n",
        "checkpoint = ModelCheckpoint('model-{epoch:03d}.model',monitor='val_loss',verbose=0,save_best_only=True,mode='auto')\n"
      ],
      "execution_count": null,
      "outputs": [
        {
          "output_type": "stream",
          "text": [
            "Found 3833 images belonging to 2 classes.\n",
            "Found 430 images belonging to 2 classes.\n"
          ],
          "name": "stdout"
        }
      ]
    },
    {
      "cell_type": "code",
      "metadata": {
        "id": "U980-u3eTZAM",
        "colab_type": "code",
        "colab": {
          "base_uri": "https://localhost:8080/",
          "height": 452
        },
        "outputId": "6d90e51d-6c16-498b-e761-2fb84e65cb78"
      },
      "source": [
        "model.summary()"
      ],
      "execution_count": null,
      "outputs": [
        {
          "output_type": "stream",
          "text": [
            "Model: \"sequential\"\n",
            "_________________________________________________________________\n",
            "Layer (type)                 Output Shape              Param #   \n",
            "=================================================================\n",
            "mobilenetv2_1.00_224 (Functi (None, 7, 7, 1280)        2257984   \n",
            "_________________________________________________________________\n",
            "conv2d (Conv2D)              (None, 7, 7, 100)         1152100   \n",
            "_________________________________________________________________\n",
            "max_pooling2d (MaxPooling2D) (None, 3, 3, 100)         0         \n",
            "_________________________________________________________________\n",
            "conv2d_1 (Conv2D)            (None, 3, 3, 100)         90100     \n",
            "_________________________________________________________________\n",
            "max_pooling2d_1 (MaxPooling2 (None, 1, 1, 100)         0         \n",
            "_________________________________________________________________\n",
            "flatten (Flatten)            (None, 100)               0         \n",
            "_________________________________________________________________\n",
            "dropout (Dropout)            (None, 100)               0         \n",
            "_________________________________________________________________\n",
            "dense (Dense)                (None, 50)                5050      \n",
            "_________________________________________________________________\n",
            "dense_1 (Dense)              (None, 2)                 102       \n",
            "=================================================================\n",
            "Total params: 3,505,336\n",
            "Trainable params: 1,247,352\n",
            "Non-trainable params: 2,257,984\n",
            "_________________________________________________________________\n"
          ],
          "name": "stdout"
        }
      ]
    },
    {
      "cell_type": "code",
      "metadata": {
        "id": "YC_HuOEB1FkO",
        "colab_type": "code",
        "colab": {
          "base_uri": "https://localhost:8080/",
          "height": 555
        },
        "outputId": "189655f7-c47a-4edf-8186-486497189529"
      },
      "source": [
        "history = model.fit(train_generator,\n",
        "                              epochs=10,\n",
        "                              validation_data=validation_generator,\n",
        "                              callbacks=[checkpoint])"
      ],
      "execution_count": null,
      "outputs": [
        {
          "output_type": "stream",
          "text": [
            "Epoch 1/10\n",
            " 59/384 [===>..........................] - ETA: 48:13 - loss: 0.6636 - acc: 0.8525"
          ],
          "name": "stdout"
        },
        {
          "output_type": "stream",
          "text": [
            "/usr/local/lib/python3.6/dist-packages/PIL/Image.py:932: UserWarning: Palette images with Transparency expressed in bytes should be converted to RGBA images\n",
            "  \"Palette images with Transparency expressed in bytes should be \"\n"
          ],
          "name": "stderr"
        },
        {
          "output_type": "stream",
          "text": [
            "384/384 [==============================] - ETA: 0s - loss: 0.2492 - acc: 0.9296WARNING:tensorflow:From /usr/local/lib/python3.6/dist-packages/tensorflow/python/training/tracking/tracking.py:111: Model.state_updates (from tensorflow.python.keras.engine.training) is deprecated and will be removed in a future version.\n",
            "Instructions for updating:\n",
            "This property should not be used in TensorFlow 2.0, as updates are applied automatically.\n",
            "WARNING:tensorflow:From /usr/local/lib/python3.6/dist-packages/tensorflow/python/training/tracking/tracking.py:111: Layer.updates (from tensorflow.python.keras.engine.base_layer) is deprecated and will be removed in a future version.\n",
            "Instructions for updating:\n",
            "This property should not be used in TensorFlow 2.0, as updates are applied automatically.\n",
            "INFO:tensorflow:Assets written to: model-001.model/assets\n",
            "384/384 [==============================] - 3191s 8s/step - loss: 0.2492 - acc: 0.9296 - val_loss: 0.0595 - val_acc: 0.9721\n",
            "Epoch 2/10\n",
            "384/384 [==============================] - ETA: 0s - loss: 0.1093 - acc: 0.9663INFO:tensorflow:Assets written to: model-002.model/assets\n",
            "384/384 [==============================] - 71s 186ms/step - loss: 0.1093 - acc: 0.9663 - val_loss: 0.0181 - val_acc: 0.9953\n",
            "Epoch 3/10\n",
            "384/384 [==============================] - 47s 124ms/step - loss: 0.0800 - acc: 0.9747 - val_loss: 0.0198 - val_acc: 0.9884\n",
            "Epoch 4/10\n",
            "384/384 [==============================] - 47s 122ms/step - loss: 0.0837 - acc: 0.9726 - val_loss: 0.0246 - val_acc: 0.9907\n",
            "Epoch 5/10\n",
            "384/384 [==============================] - ETA: 0s - loss: 0.0716 - acc: 0.9742INFO:tensorflow:Assets written to: model-005.model/assets\n",
            "384/384 [==============================] - 72s 188ms/step - loss: 0.0716 - acc: 0.9742 - val_loss: 0.0178 - val_acc: 0.9907\n",
            "Epoch 6/10\n",
            "384/384 [==============================] - 46s 119ms/step - loss: 0.0753 - acc: 0.9765 - val_loss: 0.0299 - val_acc: 0.9953\n",
            "Epoch 7/10\n",
            "384/384 [==============================] - 46s 119ms/step - loss: 0.0782 - acc: 0.9723 - val_loss: 0.0311 - val_acc: 0.9837\n",
            "Epoch 8/10\n",
            "384/384 [==============================] - 46s 120ms/step - loss: 0.0632 - acc: 0.9807 - val_loss: 0.0280 - val_acc: 0.9907\n",
            "Epoch 9/10\n",
            "384/384 [==============================] - 46s 119ms/step - loss: 0.0501 - acc: 0.9851 - val_loss: 0.0465 - val_acc: 0.9767\n",
            "Epoch 10/10\n",
            "384/384 [==============================] - 47s 122ms/step - loss: 0.0481 - acc: 0.9851 - val_loss: 0.0208 - val_acc: 0.9907\n"
          ],
          "name": "stdout"
        }
      ]
    },
    {
      "cell_type": "code",
      "metadata": {
        "id": "Y5Gb3FJjf5JL",
        "colab_type": "code",
        "colab": {}
      },
      "source": [
        "model.save(\"my_h5_model.h5\")"
      ],
      "execution_count": null,
      "outputs": []
    },
    {
      "cell_type": "code",
      "metadata": {
        "id": "aV40T3-0n-PC",
        "colab_type": "code",
        "colab": {}
      },
      "source": [
        "face_mask = tf.keras.models.load_model('my_h5_model.h5')"
      ],
      "execution_count": null,
      "outputs": []
    },
    {
      "cell_type": "code",
      "metadata": {
        "id": "agOf7FTuoWtD",
        "colab_type": "code",
        "colab": {
          "base_uri": "https://localhost:8080/",
          "height": 452
        },
        "outputId": "30f6f3c2-5ab8-4f41-d9a9-7f92cd896d4e"
      },
      "source": [
        "face_mask.summary()"
      ],
      "execution_count": null,
      "outputs": [
        {
          "output_type": "stream",
          "text": [
            "Model: \"sequential\"\n",
            "_________________________________________________________________\n",
            "Layer (type)                 Output Shape              Param #   \n",
            "=================================================================\n",
            "mobilenetv2_1.00_224 (Functi (None, 7, 7, 1280)        2257984   \n",
            "_________________________________________________________________\n",
            "conv2d (Conv2D)              (None, 7, 7, 100)         1152100   \n",
            "_________________________________________________________________\n",
            "max_pooling2d (MaxPooling2D) (None, 3, 3, 100)         0         \n",
            "_________________________________________________________________\n",
            "conv2d_1 (Conv2D)            (None, 3, 3, 100)         90100     \n",
            "_________________________________________________________________\n",
            "max_pooling2d_1 (MaxPooling2 (None, 1, 1, 100)         0         \n",
            "_________________________________________________________________\n",
            "flatten (Flatten)            (None, 100)               0         \n",
            "_________________________________________________________________\n",
            "dropout (Dropout)            (None, 100)               0         \n",
            "_________________________________________________________________\n",
            "dense (Dense)                (None, 50)                5050      \n",
            "_________________________________________________________________\n",
            "dense_1 (Dense)              (None, 2)                 102       \n",
            "=================================================================\n",
            "Total params: 3,505,336\n",
            "Trainable params: 1,247,352\n",
            "Non-trainable params: 2,257,984\n",
            "_________________________________________________________________\n"
          ],
          "name": "stdout"
        }
      ]
    },
    {
      "cell_type": "code",
      "metadata": {
        "id": "RHcM70_01Fgq",
        "colab_type": "code",
        "colab": {}
      },
      "source": [
        "face_detector=cv2.CascadeClassifier('haarcascade_frontalface_default.xml')"
      ],
      "execution_count": null,
      "outputs": []
    },
    {
      "cell_type": "code",
      "metadata": {
        "id": "2AZeKEpM0dsE",
        "colab_type": "code",
        "colab": {
          "base_uri": "https://localhost:8080/",
          "height": 499
        },
        "outputId": "b1ae14b4-f7be-44ba-adba-ded89df0ebd2"
      },
      "source": [
        "acc = history.history['acc']\n",
        "val_acc = history.history['val_acc']\n",
        "\n",
        "loss = history.history['loss']\n",
        "val_loss = history.history['val_loss']\n",
        "\n",
        "plt.figure(figsize=(8, 8))\n",
        "plt.subplot(2, 1, 1)\n",
        "plt.plot(acc, label='Training Accuracy')\n",
        "plt.plot(val_acc, label='Validation Accuracy')\n",
        "plt.legend(loc='lower right')\n",
        "plt.ylabel('Accuracy')\n",
        "plt.ylim([min(plt.ylim()),1])\n",
        "plt.title('Training and Validation Accuracy')\n",
        "\n",
        "plt.subplot(2, 1, 2)\n",
        "plt.plot(loss, label='Training Loss')\n",
        "plt.plot(val_loss, label='Validation Loss')\n",
        "plt.legend(loc='upper right')\n",
        "plt.ylabel('Cross Entropy')\n",
        "plt.ylim([0,max(plt.ylim())])\n",
        "plt.title('Training and Validation Loss')\n",
        "plt.show()"
      ],
      "execution_count": null,
      "outputs": [
        {
          "output_type": "display_data",
          "data": {
            "image/png": "[encoded data removed]",
            "text/plain": [
              "<Figure size 576x576 with 2 Axes>"
            ]
          },
          "metadata": {
            "tags": [],
            "needs_background": "light"
          }
        }
      ]
    },
    {
      "cell_type": "code",
      "metadata": {
        "id": "gqOl0CQR4IJz",
        "colab_type": "code",
        "colab": {
          "base_uri": "https://localhost:8080/",
          "height": 33
        },
        "outputId": "73d3b4c8-698e-4944-a583-e2065919895e"
      },
      "source": [
        "face_mask.layers[0].input_shape"
      ],
      "execution_count": null,
      "outputs": [
        {
          "output_type": "execute_result",
          "data": {
            "text/plain": [
              "(None, 224, 224, 3)"
            ]
          },
          "metadata": {
            "tags": []
          },
          "execution_count": 30
        }
      ]
    },
    {
      "cell_type": "code",
      "metadata": {
        "id": "H6sx2x8Q3qhW",
        "colab_type": "code",
        "colab": {
          "base_uri": "https://localhost:8080/",
          "height": 33
        },
        "outputId": "adaece23-2551-46e9-9895-1f6761096415"
      },
      "source": [
        "classes = validation_generator.class_indices    \n",
        "print(classes)"
      ],
      "execution_count": null,
      "outputs": [
        {
          "output_type": "stream",
          "text": [
            "{'with_mask': 0, 'without_mask': 1}\n"
          ],
          "name": "stdout"
        }
      ]
    }
  ]
}